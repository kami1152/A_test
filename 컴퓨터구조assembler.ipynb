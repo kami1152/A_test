{
  "nbformat": 4,
  "nbformat_minor": 0,
  "metadata": {
    "colab": {
      "provenance": []
    },
    "kernelspec": {
      "name": "python3",
      "display_name": "Python 3"
    },
    "language_info": {
      "name": "python"
    }
  },
  "cells": [
    {
      "cell_type": "code",
      "execution_count": 12,
      "metadata": {
        "id": "xZioYyI6UMiq"
      },
      "outputs": [],
      "source": [
        "import pandas as pd\n",
        "import copy"
      ]
    },
    {
      "cell_type": "markdown",
      "source": [
        "#Need_data_store\n"
      ],
      "metadata": {
        "id": "Z-fDx6_qUT00"
      }
    },
    {
      "cell_type": "code",
      "source": [
        "dt ={\n",
        "    \"AND\":['0','8'], \n",
        "    \"ADD\":['1','9'],\n",
        "    \"LDA\":['2','A'],\n",
        "    \"STA\":['3','B'],\n",
        "    \"BUN\":['4','C'],\n",
        "    \"BSA\":['5','D'],\n",
        "    \"ISZ\":['6','E'],\n",
        "    \"CLA\":['7800'],\n",
        "    \"CLE\":['7400'],\n",
        "    \"CMA\":['7200'],\n",
        "    \"CME\":['7100'],\n",
        "    \"CIR\":['7080'],\n",
        "    \"CIL\":['7040'],\n",
        "    \"INC\":['7020'],\n",
        "    \"SPA\":['7010'],\n",
        "    \"SNA\":['7008'],\n",
        "    \"SZA\":['7004'],\n",
        "    \"SZE\":['7002'],\n",
        "    \"HLT\":['7001'],\n",
        "    \"INP\":['F800'],\n",
        "    \"OUT\":['F400'],\n",
        "    \"SKI\":['F200'],\n",
        "    \"SKO\":['F100'],\n",
        "    \"INO\":['F080'],\n",
        "    \"IOF\":['F040'],\n",
        "     \"ORG\":['[0000..00FF]']\n",
        "     }\n",
        "data_type = ['HEX', 'DEC', 'OCT', 'BIN']\n"
      ],
      "metadata": {
        "id": "EgCjgkJxURUB"
      },
      "execution_count": 13,
      "outputs": []
    },
    {
      "cell_type": "markdown",
      "source": [
        "#MAKE"
      ],
      "metadata": {
        "id": "0s6yrCYvUXws"
      }
    },
    {
      "cell_type": "code",
      "source": [
        "class Trans_Asem:\n",
        "  def __init__(self): #init MAX\n",
        "    self.dt = dt\n",
        "    self.MEMORY_MEX_SIZE = 65536 #16 WIDTH\n",
        "    self.memory_position = 256   #100\n",
        "    self.memory_tran = {}\n",
        "    self.decoded_tran = {}\n",
        "    self.var = {}\n",
        "    self.oper = {}\n",
        "    self.cache = {}\n",
        "    return \n",
        "\n",
        "  def get_user_input(self, file_address):\n",
        "    f = open(file_address, 'r') #file open\n",
        "    while True:\n",
        "      line = f.readline()\n",
        "      if not line: break\n",
        "      if len(line.split()) == 0:continue\n",
        "      if line.split()[0] == \"ORG\":             #ORG : 0000;\n",
        "        self.decoded_tran[self.dt[\"ORG\"][0]] = \"0000\"\n",
        "        continue\n",
        "      #var\n",
        "      if ',' in line: # 변수체크\n",
        "        temp = line.upper().replace(',','').split()\n",
        "        key = str(hex(self.memory_position)).replace('0x','').zfill(4) #0x0000 fill\n",
        "        self.var[key] = temp\n",
        "        self.memory_tran[key] = temp  # \n",
        "        self.memory_position += 1     #100 101 102 103\n",
        "\n",
        "      else:\n",
        "        temp = line.upper().split()\n",
        "        key = str(hex(self.memory_position)).replace('0x','').zfill(4)\n",
        "        self.oper[key] = temp\n",
        "        self.memory_tran[key] = temp\n",
        "        self.memory_position += 1\n",
        "    f.close()\n",
        "    return \n",
        "\n",
        "  def decode(self): #find_var and decode dictionary\n",
        "    cp = copy.deepcopy(self.var) #temp[var] open(deepcopy)   \n",
        "    while len(cp) != 0: #len(cp)의 크기가 0이 될때까지 decode 시작\n",
        "      print(cp)\n",
        "      for key in cp.keys(): #var key 순서대로 불러오기\n",
        "        value = cp[key]\n",
        "        if len(value) == 3: #BUN SUB I <<- i 로 메모리 이름 바뀌므로 탐색\n",
        "          temp = value[2]\n",
        "          if value[1] == 'HEX': #16진수 처리\n",
        "            temp = temp.replace('0x','').zfill(4)\n",
        "            self.cache[value[0]] = [temp, key]\n",
        "            del cp[key]\n",
        "            break\n",
        "          elif value[1] == 'DEC': #10진수 처리\n",
        "            if int(temp) < 0:\n",
        "              temp = self.MEMORY_MEX_SIZE + int(temp) # 65536 - 5 = FFFB\n",
        "            temp = hex(temp) #10진수 -> 16진수로 변환\n",
        "            temp = temp.replace('0x','').zfill(4)\n",
        "            self.cache[value[0]] = [temp,key]\n",
        "            del cp[key]\n",
        "            break\n",
        "          elif value[1] == 'OCT': #8진수 처리\n",
        "            temp = hex(int(temp, 8))\n",
        "            temp = temp.replace('0x','').zfill(4)\n",
        "            self.cache[value[0]] = [temp,key]\n",
        "            del cp[key]\n",
        "            break\n",
        "          elif value[1] == 'BIN': #2진수 처리\n",
        "            temp = hex(int(temp, 2))\n",
        "            temp = temp.replace('0x','').zfill(4)\n",
        "            self.cache[value[0]] = [temp, key]\n",
        "            del cp[key]\n",
        "            break \n",
        "          elif value[1] in self.dt: #dt 기본값들을 탐색\n",
        "            if temp in self.cache: \n",
        "              if self.cache[temp][1][0] == \"0\":\n",
        "                temp = self.dt[value[1]][0] + self.cache[temp][1][1:]\n",
        "              else:\n",
        "                temp = self.dt[value[1]][0] + self.cache[temp][1]\n",
        "              self.cache[value[0]] = [temp, key]\n",
        "              del cp[key]\n",
        "              break\n",
        "        elif len(value) == 2:\n",
        "          if value[1] in self.cache:\n",
        "            self.cache[value[0]] = [self.cache[value[1]][1], key]\n",
        "            del cp[key]\n",
        "            break\n",
        "          elif value[1] in self.dt:\n",
        "            self.cache[value[0]] = [self.dt[value[1]][0], key]\n",
        "            del cp[key]\n",
        "            break\n",
        "        else:\n",
        "          self.cache[value[0]] = [\"0000\",key]\n",
        "          del cp[key]\n",
        "          break\n",
        "    return\n",
        "\n",
        "  def translate(self):\n",
        "    for key in self.memory_tran.keys():\n",
        "      temp = \"\"\n",
        "      values = self.memory_tran[key]\n",
        "      flag = False # flag\n",
        "      if values[0] in self.cache:\n",
        "        self.decoded_tran[key] = self.cache[values[0]][0].upper() \n",
        "        continue\n",
        "      else:\n",
        "        for v in reversed(values): # 뒤부터 탐색\n",
        "          if v == 'I':\n",
        "            flag = True ## 맨 뒤 i 가 붙을 경우 setup이 달라짐\n",
        "            continue \n",
        "          if v in self.dt:\n",
        "            if flag: #True\n",
        "              temp = self.dt[v][1] + temp #ex: LDA {2} or {A} <-this\n",
        "            else:\n",
        "              temp = self.dt[v][0] + temp #ex: LDA {2}<-this or {A}  \n",
        "          elif v in self.cache: #cache (변수 저장 공간) 에 있을경우\n",
        "            t = self.cache[v][1] # {}\n",
        "            if self.cache[v][1][0] == \"0\": #0100\n",
        "              temp = self.cache[v][1][1:] + temp \n",
        "          self.decoded_tran[key] = temp.upper() #temp로 대체\n",
        "      if self.decoded_tran[key] == \"\":\n",
        "         self.decoded_tran[key] = \"0000\"\n",
        "\n",
        "  def result(self):\n",
        "    fp = open(\"result.txt.mif\",'w')\n",
        "    fp.write(\"WIDTH = 16; \\n\")\n",
        "    fp.write(\"DEPTH=4096; \\n\\n\")\n",
        "    fp.write(\"ADDRESS_RADIX=HEX; \\n\")\n",
        "    fp.write(\"DATA_RADIX=HEX; \\n\\n\")\n",
        "    fp.write(\"CONTENT BEGIN;\\n\")\n",
        "    for key in self.decoded_tran.keys():\n",
        "      data = '\\t%s:\\t%s; \\n' %(key, self.decoded_tran[key])\n",
        "      fp.write(data)\n",
        "    fp.write(\"END;\")\n",
        "    fp.close()\n",
        "\n",
        "  def check(self):\n",
        "    print(\"WIDTH=16;\")\n",
        "    print(\"DEPTH=4096;\")\n",
        "    print()\n",
        "    print(\"ADDRESS_RADIX=HEX;\")\n",
        "    print(\"DATA_RADIX=HEX;\")\n",
        "    print()\n",
        "    print(\"CONTENT BEGIN;\")\n",
        "    for key in self.decoded_tran.keys():\n",
        "      print('\\t%s:\\t%s;'%(key, self.decoded_tran[key]))\n",
        "    print(\"END;\")\n",
        "    \n"
      ],
      "metadata": {
        "id": "cAIr60-zUbSE"
      },
      "execution_count": 105,
      "outputs": []
    },
    {
      "cell_type": "markdown",
      "source": [
        "#RESULT\n"
      ],
      "metadata": {
        "id": "WYdTosTEhGFT"
      }
    },
    {
      "cell_type": "code",
      "source": [
        "t = Trans_Asem()\n",
        "t.get_user_input(\"/content/drive/MyDrive/Sys_Asem/DigCom-A1.2-Assembler/res_test/test_case.txt\")"
      ],
      "metadata": {
        "id": "7kfFiKTXhMC-"
      },
      "execution_count": 106,
      "outputs": []
    },
    {
      "cell_type": "code",
      "source": [
        "t.decode()"
      ],
      "metadata": {
        "colab": {
          "base_uri": "https://localhost:8080/"
        },
        "id": "TdmTzLa5lGuZ",
        "outputId": "74489685-296c-4d56-dab3-8284ac307cb2"
      },
      "execution_count": 107,
      "outputs": [
        {
          "output_type": "stream",
          "name": "stdout",
          "text": [
            "{'0100': ['CIF', 'SKI'], '0103': ['COF', 'SKO'], '0108': ['CHR']}\n",
            "{'0103': ['COF', 'SKO'], '0108': ['CHR']}\n",
            "{'0108': ['CHR']}\n"
          ]
        }
      ]
    },
    {
      "cell_type": "code",
      "source": [
        "t.cache"
      ],
      "metadata": {
        "colab": {
          "base_uri": "https://localhost:8080/"
        },
        "id": "rmPuXhyxlErA",
        "outputId": "c4d7d3a1-a3f9-4e88-c399-ab88a55b8b76"
      },
      "execution_count": 108,
      "outputs": [
        {
          "output_type": "execute_result",
          "data": {
            "text/plain": [
              "{'CIF': ['F200', '0100'], 'COF': ['F100', '0103'], 'CHR': ['0000', '0108']}"
            ]
          },
          "metadata": {},
          "execution_count": 108
        }
      ]
    },
    {
      "cell_type": "code",
      "source": [
        "t.memory_tran"
      ],
      "metadata": {
        "colab": {
          "base_uri": "https://localhost:8080/"
        },
        "id": "JL6r0tpalE3W",
        "outputId": "f2b039d9-61e2-4fb1-c427-20e029e222c3"
      },
      "execution_count": 109,
      "outputs": [
        {
          "output_type": "execute_result",
          "data": {
            "text/plain": [
              "{'0100': ['CIF', 'SKI'],\n",
              " '0101': ['BUN', 'CIF'],\n",
              " '0102': ['INP'],\n",
              " '0103': ['COF', 'SKO'],\n",
              " '0104': ['BUN', 'COF'],\n",
              " '0105': ['OUT'],\n",
              " '0106': ['STA', 'CHR'],\n",
              " '0107': ['HLT'],\n",
              " '0108': ['CHR'],\n",
              " '0109': ['END']}"
            ]
          },
          "metadata": {},
          "execution_count": 109
        }
      ]
    },
    {
      "cell_type": "code",
      "source": [
        "t.translate()"
      ],
      "metadata": {
        "id": "kXPxXPW2iK_P"
      },
      "execution_count": 112,
      "outputs": []
    },
    {
      "cell_type": "code",
      "source": [
        "t.decoded_tran"
      ],
      "metadata": {
        "colab": {
          "base_uri": "https://localhost:8080/"
        },
        "id": "Xfm5CGqjjvw9",
        "outputId": "428965f4-e640-40f3-8969-04fe4b0277db"
      },
      "execution_count": 113,
      "outputs": [
        {
          "output_type": "execute_result",
          "data": {
            "text/plain": [
              "{'[0000..00FF]': '0000',\n",
              " '0100': 'F200',\n",
              " '0101': '4100',\n",
              " '0102': 'F800',\n",
              " '0103': 'F100',\n",
              " '0104': '4103',\n",
              " '0105': 'F400',\n",
              " '0106': '3108',\n",
              " '0107': '7001',\n",
              " '0108': '0000',\n",
              " '0109': '0000'}"
            ]
          },
          "metadata": {},
          "execution_count": 113
        }
      ]
    },
    {
      "cell_type": "code",
      "source": [
        "t.check()"
      ],
      "metadata": {
        "colab": {
          "base_uri": "https://localhost:8080/"
        },
        "id": "tXCuYeuAkxbp",
        "outputId": "9d9100d6-15d9-4f80-b0b9-26793583b0b2"
      },
      "execution_count": 114,
      "outputs": [
        {
          "output_type": "stream",
          "name": "stdout",
          "text": [
            "WIDTH=16;\n",
            "DEPTH=4096;\n",
            "\n",
            "ADDRESS_RADIX=HEX;\n",
            "DATA_RADIX=HEX;\n",
            "\n",
            "CONTENT BEGIN;\n",
            "\t[0000..00FF]:\t0000;\n",
            "\t0100:\tF200;\n",
            "\t0101:\t4100;\n",
            "\t0102:\tF800;\n",
            "\t0103:\tF100;\n",
            "\t0104:\t4103;\n",
            "\t0105:\tF400;\n",
            "\t0106:\t3108;\n",
            "\t0107:\t7001;\n",
            "\t0108:\t0000;\n",
            "\t0109:\t0000;\n",
            "END;\n"
          ]
        }
      ]
    },
    {
      "cell_type": "code",
      "source": [
        "t.result()"
      ],
      "metadata": {
        "id": "b_8N7a3Xjy19"
      },
      "execution_count": 115,
      "outputs": []
    }
  ]
}